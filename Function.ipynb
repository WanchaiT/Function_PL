{
 "cells": [
  {
   "cell_type": "markdown",
   "metadata": {},
   "source": [
    "1. Functions"
   ]
  },
  {
   "cell_type": "markdown",
   "metadata": {},
   "source": [
    "Functions คือ กลุ่มของคำสั่งที่มีการเรียกใช้หลายๆครั้งเอาไว้ในfunctionเดียวกัน เพื่อลดความซับซ้อนของโปรแกรมและเพื่อให้ง่ายต่อการใช้งาน"
   ]
  },
  {
   "cell_type": "code",
   "execution_count": 4,
   "metadata": {},
   "outputs": [],
   "source": [
    "def my_function():\n",
    "    print(\"Hello from a function\")"
   ]
  },
  {
   "cell_type": "markdown",
   "metadata": {},
   "source": [
    "ใช้ keyword ว่า def ในการประกาศ function \n",
    "และชื่อ function ตามหลัง keyword def \n",
    "ใช้สัญลักษณ์ : เพื่อให้ทราบว่าบรรทัดต่อไปจะเป็น statements\n",
    "และใช้การเว้นวรรค เพื่อให้รู้ถึงขอบเขตของการทำงานของ function"
   ]
  },
  {
   "cell_type": "code",
   "execution_count": 5,
   "metadata": {},
   "outputs": [
    {
     "name": "stdout",
     "output_type": "stream",
     "text": [
      "Hello from a function\n"
     ]
    }
   ],
   "source": [
    "def my_function():\n",
    "    print(\"Hello from a function\")\n",
    "\n",
    "my_function()"
   ]
  },
  {
   "cell_type": "markdown",
   "metadata": {},
   "source": [
    "ตัวอย่างการเรียกใช้ function ที่ไม่มีการ return ค่า"
   ]
  },
  {
   "cell_type": "code",
   "execution_count": 6,
   "metadata": {},
   "outputs": [
    {
     "name": "stdout",
     "output_type": "stream",
     "text": [
      "Hello from a function\n"
     ]
    }
   ],
   "source": [
    "def my_function():\n",
    "    return \"Hello from a function\"\n",
    "\n",
    "text = my_function()\n",
    "print(text)"
   ]
  },
  {
   "cell_type": "markdown",
   "metadata": {},
   "source": [
    "ตัวอย่างการเรียกใช้ function ที่มีการ return ค่า"
   ]
  },
  {
   "cell_type": "markdown",
   "metadata": {},
   "source": [
    "------------------------------------------"
   ]
  },
  {
   "cell_type": "markdown",
   "metadata": {},
   "source": [
    "2. Parameter Pass by Reference"
   ]
  },
  {
   "cell_type": "markdown",
   "metadata": {},
   "source": [
    "Parameter Pass by Reference คือ การส่ง address ของตัวแปรไปยัง function \n",
    "โดยถ้ามีการเปลี่ยนแปลงค่าของตัวแปรภายใน function จะส่งผลกระทบกับตัวแปรที่เรียกใช้"
   ]
  },
  {
   "cell_type": "code",
   "execution_count": 9,
   "metadata": {},
   "outputs": [
    {
     "name": "stdout",
     "output_type": "stream",
     "text": [
      "my_list before call function =  [1, 2, 3, 4]\n",
      "my_list after call function =  [1, 2, 3, 4, 14]\n"
     ]
    }
   ],
   "source": [
    "def foo(my_list):\n",
    "    my_list.append(14)\n",
    "\n",
    "my_list = [1,2,3,4]\n",
    "print(\"my_list before call function = \",my_list)\n",
    "foo(my_list)\n",
    "print(\"my_list after call function = \",my_list)"
   ]
  },
  {
   "cell_type": "markdown",
   "metadata": {},
   "source": [
    "ตัวอย่าง\n",
    "สร้างตัวแปร my_list เป็น type list มีค่าเป็น [1,2,3,4] \n",
    "จากนั้นส่งไปยัง function foo และภายใน function foo ทำการเพิ่มค่า 14 ด้านท้ายของ my_list\n",
    "โดยตัวตัวแปร my_list ภายนอก function จะมีการเพิ่มค่า 14 ด้วย"
   ]
  },
  {
   "cell_type": "markdown",
   "metadata": {},
   "source": [
    "------------------------------------------"
   ]
  },
  {
   "cell_type": "markdown",
   "metadata": {},
   "source": [
    "3.  Function Arguments"
   ]
  },
  {
   "cell_type": "markdown",
   "metadata": {},
   "source": [
    "Function Arguments คือ การส่ง message หรือค่าของตัวแปร หรือ address ไปยัง function \n",
    "โดย function ทำการนำข้อมูลส่วนนั้นมาทำการคำสั่งตามที่กำหนด"
   ]
  },
  {
   "cell_type": "code",
   "execution_count": 5,
   "metadata": {},
   "outputs": [
    {
     "name": "stdout",
     "output_type": "stream",
     "text": [
      "10  +  14  =  24\n"
     ]
    }
   ],
   "source": [
    "def plus(x ,y):\n",
    "    print(x ,\" + \", y ,\" = \", x + y)\n",
    "\n",
    "x = 10 ;y = 14\n",
    "plus(x ,y)"
   ]
  },
  {
   "cell_type": "markdown",
   "metadata": {},
   "source": [
    "ตัวอย่าง\n",
    "ทำการส่งค่าของ x , y ไปยัง function plus \n",
    "และ function plus ทำการ บวกค่า x และ y"
   ]
  },
  {
   "cell_type": "markdown",
   "metadata": {},
   "source": [
    "------------------------------------------"
   ]
  },
  {
   "cell_type": "markdown",
   "metadata": {},
   "source": [
    "4. Required Arguments"
   ]
  },
  {
   "cell_type": "markdown",
   "metadata": {},
   "source": [
    "Required Arguments คือ parameter ที่ function "
   ]
  },
  {
   "cell_type": "code",
   "execution_count": 7,
   "metadata": {},
   "outputs": [
    {
     "name": "stdout",
     "output_type": "stream",
     "text": [
      "name =  prayart\n",
      "last name =  jun-ankran\n",
      "tel =  44\n"
     ]
    }
   ],
   "source": [
    "def profile(name ,last_name ,tel):\n",
    "    print(\"name = \",name)\n",
    "    print(\"last name = \",last_name)\n",
    "    print(\"tel = \",tel)\n",
    "    \n",
    "profile(\"prayart\" ,\"jun-ankran\" ,44)"
   ]
  },
  {
   "cell_type": "markdown",
   "metadata": {},
   "source": [
    "ตัวอย่าง\n",
    "function profile มี Required Arguments หรือ parameter 3 ตัว\n",
    "คือ name ,last_name เป็น type string และ tel เป็น type int"
   ]
  },
  {
   "cell_type": "markdown",
   "metadata": {},
   "source": [
    "------------------------------------------"
   ]
  },
  {
   "cell_type": "markdown",
   "metadata": {},
   "source": [
    "5. Keyword Arguments"
   ]
  },
  {
   "cell_type": "markdown",
   "metadata": {},
   "source": [
    "Keyword Arguments คือ การระบุชื่อของค่า parameter ที่ต้องการตอนเรียกใช้ function "
   ]
  },
  {
   "cell_type": "code",
   "execution_count": 8,
   "metadata": {},
   "outputs": [
    {
     "name": "stdout",
     "output_type": "stream",
     "text": [
      "name =  prayart\n",
      "last name =  jun-ankran\n",
      "tel =  44\n"
     ]
    }
   ],
   "source": [
    "def profile(name ,last_name ,tel):\n",
    "    print(\"name = \",name)\n",
    "    print(\"last name = \",last_name)\n",
    "    print(\"tel = \",tel)\n",
    "    \n",
    "profile(last_name = \"jun-ankran\" ,tel = 44 ,name = \"prayart\")"
   ]
  },
  {
   "cell_type": "markdown",
   "metadata": {},
   "source": [
    "ตัวอย่าง \n",
    "function profile มี parameter 3 ตัว คือ name ,last_name ,tel\n",
    "เมื่อเรียกใช้ อยากจะส่ง argument last_name ก่อน สามารทำได้โดย \n",
    "กำหนด last_name = \"jun-ankran\" "
   ]
  },
  {
   "cell_type": "markdown",
   "metadata": {},
   "source": [
    "------------------------------------------"
   ]
  },
  {
   "cell_type": "markdown",
   "metadata": {},
   "source": [
    "6.Default arguments\n",
    "\n",
    "Default arguments คือ อาร์กิวเมนต์ของฟังก์ชันจะรับค่านั้นถ้าไม่มีค่าอาร์กิวเมนต์ใดที่ผ่านระหว่างการเรียกฟังก์ชัน ค่าดีฟอลต์ถูกกำหนดโดยใช้  Operator(=) \n"
   ]
  },
  {
   "cell_type": "code",
   "execution_count": 1,
   "metadata": {},
   "outputs": [
    {
     "name": "stdout",
     "output_type": "stream",
     "text": [
      "Joe Come here!\n",
      "Joe Come\n"
     ]
    }
   ],
   "source": [
    "def defaultArg(name, foo='Come here!'):\n",
    "    print (name,foo)\n",
    "defaultArg('Joe')\n",
    "defaultArg('Joe', 'Come')"
   ]
  },
  {
   "cell_type": "markdown",
   "metadata": {},
   "source": [
    "จาก function defaultArg สังเกตได้ว่าพารามิเตอร์ foo จะมี Operator(=) ไว้เพื่อกำหนดค่าฟอลต์ของ function defaultArg                         \n",
    "ตัวอย่างจากการเรียกใช้ defaultArg('Joe') พารามิเตอร์ foo เป็นดีฟอลต์ถูกกำหนดค่าใหม่ตาม Operator(=) เป็น Come here!"
   ]
  },
  {
   "cell_type": "markdown",
   "metadata": {},
   "source": [
    "------------------------------------------"
   ]
  },
  {
   "cell_type": "markdown",
   "metadata": {},
   "source": [
    "7.Variable Length Arguments"
   ]
  },
  {
   "cell_type": "markdown",
   "metadata": {},
   "source": [
    "Variable Length Arguments คือ วิธีการส่งผ่านรายการอาร์กิวเมนต์ความยาวตัวแปรพารามิเตอร์ไปยัง function \n",
    "\n",
    "ในภาษา Python เราสามารถใช้ operator * และ ** ในการส่งรายการอาร์กิวเมนต์ดังนี้"
   ]
  },
  {
   "cell_type": "code",
   "execution_count": 2,
   "metadata": {},
   "outputs": [
    {
     "name": "stdout",
     "output_type": "stream",
     "text": [
      "(1, 2, 'Three', 'Four')\n"
     ]
    }
   ],
   "source": [
    "def myFunction(*args):\n",
    "    print (args)\n",
    "myFunction(1, 2, 'Three', 'Four')"
   ]
  },
  {
   "cell_type": "markdown",
   "metadata": {},
   "source": [
    "จาก function myFunction ใช้ *args เพื่อรับรายการอาร์กิวเมนต์ที่เป็น list[]"
   ]
  },
  {
   "cell_type": "code",
   "execution_count": 3,
   "metadata": {},
   "outputs": [
    {
     "name": "stdout",
     "output_type": "stream",
     "text": [
      "{'name': 'Mandar', 'country': 'India', 'age': 25}\n"
     ]
    }
   ],
   "source": [
    "def myFunction2(**kwargs):\n",
    "    print (kwargs)\n",
    "\n",
    "\n",
    "myFunction2(name='Mandar', country='India', age=25)"
   ]
  },
  {
   "cell_type": "markdown",
   "metadata": {},
   "source": [
    "จาก function myFunction2 ใช้ **kwargs เพื่อรับรายการอาร์กิวเมนต์ที่เป็น dict{}"
   ]
  },
  {
   "cell_type": "markdown",
   "metadata": {},
   "source": [
    "------------------------------------------"
   ]
  },
  {
   "cell_type": "markdown",
   "metadata": {},
   "source": [
    "8.Anonymous Functions"
   ]
  },
  {
   "cell_type": "markdown",
   "metadata": {},
   "source": [
    "Anonymous Functions หรือ Lambda Function คือ ฟังก์ชันที่ถูกกำหนดโดย keyword lambda \n",
    "ในขณะที่ฟังก์ชันปกติถูกกำหนดโดยใช้ keyword เป็น def ดังนั้นฟังก์ชันที่ไม่ระบุชื่อจึงเรียกว่าฟังก์ชัน lambda \n",
    "ยกตัวอย่างการใช้ฟังก์ชัน lambda ดังนี้"
   ]
  },
  {
   "cell_type": "code",
   "execution_count": 4,
   "metadata": {},
   "outputs": [
    {
     "name": "stdout",
     "output_type": "stream",
     "text": [
      "10\n"
     ]
    }
   ],
   "source": [
    "double = lambda x: x * 2\n",
    "\n",
    "print(double(5))"
   ]
  },
  {
   "cell_type": "markdown",
   "metadata": {},
   "source": [
    "------------------------------------------"
   ]
  },
  {
   "cell_type": "markdown",
   "metadata": {},
   "source": [
    "9.The return statementThe return statement คือ การรายงาน statement โดยใช้คำสั่ง return ผ่านการใช้ function \n",
    "\n",
    "ยกตัวอย่างการใช้ The return statement ดังนี้"
   ]
  },
  {
   "cell_type": "code",
   "execution_count": 5,
   "metadata": {},
   "outputs": [
    {
     "name": "stdout",
     "output_type": "stream",
     "text": [
      "3\n"
     ]
    }
   ],
   "source": [
    "def maximum(x, y):\n",
    "    if x > y:\n",
    "        return x\n",
    "    else:\n",
    "        return y\n",
    "\n",
    "print (maximum(2, 3))"
   ]
  },
  {
   "cell_type": "code",
   "execution_count": null,
   "metadata": {},
   "outputs": [],
   "source": [
    "จาก function maximum ได้ทำการส่งพารามิเตอร์คือ x และ y เพื่อหาว่าค่าใดมีค่ามากกว่ากันและทำการรายงาน statement ผ่านคำสั่ง return"
   ]
  },
  {
   "cell_type": "markdown",
   "metadata": {},
   "source": [
    "------------------------------------------"
   ]
  },
  {
   "cell_type": "markdown",
   "metadata": {},
   "source": [
    "10.Scope of Variables"
   ]
  },
  {
   "cell_type": "markdown",
   "metadata": {},
   "source": [
    "Scope of Variables คือ ส่วนที่ ตัวแปร หรือ namespaces สามารถเข้าถึงในพื้นที่เหล่านั้นได้\n",
    "\n",
    "ยกตัวอย่างเช่น"
   ]
  },
  {
   "cell_type": "code",
   "execution_count": 7,
   "metadata": {},
   "outputs": [],
   "source": [
    "def outer_function():\n",
    "    b = 20\n",
    "    def inner_func():\n",
    "        c = 30\n",
    "\n",
    "a = 10"
   ]
  },
  {
   "cell_type": "markdown",
   "metadata": {},
   "source": [
    "จะมีตัวแปร 3 ตัวคือ a,b,c โดยตัวแปร a จะสามารถเข้าถึงพื้นที่ของ outer_function() และ inner_function() ได้ แต่ตัวแปร b และ c ไม่สามารถเข้าถึงพื้นที่ที่ตัวแปร a อยู่ได้ เพราะตัวแปร b อยู่ใน scope ของ outer_function() สามารถเข้าถึงได้แค่ outer_function() และ inner_func() ตัวแปร c อยู่ใน scope inner_func() สามารถเข้าถึงพื้นที่ของ inner_func() ได้ที่เดียวเท่านั้น ดังตัวอย่างต่อไป"
   ]
  },
  {
   "cell_type": "code",
   "execution_count": 8,
   "metadata": {},
   "outputs": [
    {
     "name": "stdout",
     "output_type": "stream",
     "text": [
      "a = 30\n",
      "a = 20\n",
      "a = 10\n"
     ]
    }
   ],
   "source": [
    "def outer_function():\n",
    "    a = 20\n",
    "    def inner_function():\n",
    "        a = 30\n",
    "        print('a =',a)\n",
    "\n",
    "    inner_function()\n",
    "    print('a =',a)\n",
    "    \n",
    "a = 10\n",
    "outer_function()\n",
    "print('a =',a)"
   ]
  },
  {
   "cell_type": "markdown",
   "metadata": {},
   "source": [
    "อ้างอิง\n",
    "https://robertheaton.com/2014/02/09/pythons-pass-by-object-reference-as-explained-by-philip-k-dick/\n",
    "https://www.programiz.com/python-programming/function\n",
    "https://www.w3schools.com/python/python_functions.asp\n",
    "http://www.cs.science.cmu.ac.th/person/matinee/204216/lec/Chapter8_C_Pointer_Function.pdf\n",
    "https://treyhunner.com/2018/04/keyword-arguments-in-python/\n",
    "https://www.geeksforgeeks.org/default-arguments-in-python/\n",
    "http://www.yourownlinux.com/2016/12/python-function-args-kwargs.html\n",
    "https://www.programiz.com/python-programming/anonymous-function\n",
    "https://www.ibiblio.org/g2swap/byteofpython/read/return.html\n",
    "https://www.programiz.com/python-programming/namespace"
   ]
  }
 ],
 "metadata": {
  "kernelspec": {
   "display_name": "Python 3",
   "language": "python",
   "name": "python3"
  },
  "language_info": {
   "codemirror_mode": {
    "name": "ipython",
    "version": 3
   },
   "file_extension": ".py",
   "mimetype": "text/x-python",
   "name": "python",
   "nbconvert_exporter": "python",
   "pygments_lexer": "ipython3",
   "version": "3.6.5"
  }
 },
 "nbformat": 4,
 "nbformat_minor": 2
}
