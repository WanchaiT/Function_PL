{
 "cells": [
  {
   "cell_type": "markdown",
   "metadata": {},
   "source": [
    "# 1"
   ]
  },
  {
   "cell_type": "markdown",
   "metadata": {},
   "source": [
    "Functions คือ กลุ่มของคำสั่งที่มีการเรียกใช้หลายๆครั้งเอาไว้ในfunctionเดียวกัน เพื่อลดความซับซ้อนของโปรแกรมและเพื่อให้ง่ายต่อการใช้งาน"
   ]
  },
  {
   "cell_type": "markdown",
   "metadata": {},
   "source": [
    "# 2"
   ]
  },
  {
   "cell_type": "markdown",
   "metadata": {},
   "source": [
    "Pass by Value คือ การ copy ค่าที่ผู้เรียกใช้ function ส่งให้กับ function ไม่ส่งผลกระทบกับตัวแปรในส่วนที่เรียกใช้ แต่\n",
    "Pass by Reference คือ การส่ง address ของตัวแปรไปยัง function โดยถ้ามีการเปลี่ยนแปลงค่าของตัวแปรภายใน function จะส่งผลกระทบกับตัวแปรที่เรียกใช้"
   ]
  },
  {
   "cell_type": "markdown",
   "metadata": {},
   "source": [
    "# 3"
   ]
  },
  {
   "cell_type": "code",
   "execution_count": null,
   "metadata": {},
   "outputs": [],
   "source": [
    "def plus(x ,y):\n",
    "    print(x ,\" + \", y ,\" = \", x + y)\n",
    "\n",
    "x = 5 ;y = 10\n",
    "plus(y ,x)"
   ]
  },
  {
   "cell_type": "markdown",
   "metadata": {},
   "source": [
    "10  +  5  =  15"
   ]
  },
  {
   "cell_type": "markdown",
   "metadata": {},
   "source": [
    "# 4"
   ]
  },
  {
   "cell_type": "code",
   "execution_count": null,
   "metadata": {},
   "outputs": [],
   "source": [
    "def profile(name ,last_name ,age):\n",
    "    print(\"name = \",name)\n",
    "    print(\"last name = \",last_name)\n",
    "    print(\"age = \",age)\n",
    "    \n",
    "profile(\"Gabriel\" ,\"Miller\" ,35)"
   ]
  },
  {
   "cell_type": "markdown",
   "metadata": {},
   "source": [
    "function profile มี Required Arguments หรือ parameter 3 ตัว คือ name ,last_name เป็น type string และ tel เป็น type int"
   ]
  },
  {
   "cell_type": "markdown",
   "metadata": {},
   "source": [
    "# 5"
   ]
  },
  {
   "cell_type": "code",
   "execution_count": null,
   "metadata": {},
   "outputs": [],
   "source": [
    "def profile(name ,last_name ,age):\n",
    "    print(\"name = \",name)\n",
    "    print(\"last name = \",last_name)\n",
    "    print(\"age = \",age)\n",
    "    \n",
    "profile(last_name = \"Miller\" ,age = 35 ,name = \"Gabriel\")"
   ]
  },
  {
   "cell_type": "markdown",
   "metadata": {},
   "source": [
    "สามารทำได้โดยวิธีกำหนด Keyword Arguments คือกำหนด last_name = \"Miller\""
   ]
  },
  {
   "cell_type": "markdown",
   "metadata": {},
   "source": [
    "# 6"
   ]
  },
  {
   "cell_type": "code",
   "execution_count": null,
   "metadata": {},
   "outputs": [],
   "source": [
    "def defaultArg(name, foo='is here!'):\n",
    "    print (name,foo)\n",
    "defaultArg('Subtilizer')"
   ]
  },
  {
   "cell_type": "markdown",
   "metadata": {},
   "source": [
    "Subtilizer is here!"
   ]
  },
  {
   "cell_type": "markdown",
   "metadata": {},
   "source": [
    "# 7"
   ]
  },
  {
   "cell_type": "code",
   "execution_count": null,
   "metadata": {},
   "outputs": [],
   "source": [
    "def myFunction1(*args):\n",
    "    print (args)\n",
    "myFunction(1, 2, 'Three', 'Four')"
   ]
  },
  {
   "cell_type": "code",
   "execution_count": null,
   "metadata": {},
   "outputs": [],
   "source": [
    "def myFunction2(**kwargs):\n",
    "    print (kwargs)\n",
    "\n",
    "\n",
    "myFunction2(name='Carlos', country='Canada', age=45)"
   ]
  },
  {
   "cell_type": "markdown",
   "metadata": {},
   "source": [
    "myFunction1 รับ data type ชนิด list[]\n",
    "myFunction2 รับ data type ชนิด dict{}"
   ]
  },
  {
   "cell_type": "markdown",
   "metadata": {},
   "source": [
    "# 8"
   ]
  },
  {
   "cell_type": "markdown",
   "metadata": {},
   "source": [
    "Anonymous Functions หรือ Lambda Function คือ ฟังก์ชันที่ถูกกำหนดโดย keyword lambda ในขณะที่ฟังก์ชันปกติถูกกำหนดโดยใช้ keyword เป็น def ดังนั้นฟังก์ชันที่ไม่ระบุชื่อจึงเรียกว่าฟังก์ชัน lambda ยกตัวอย่างการใช้ฟังก์ชัน lambda ดังนี้"
   ]
  },
  {
   "cell_type": "code",
   "execution_count": null,
   "metadata": {},
   "outputs": [],
   "source": [
    "double = lambda x: x * 2\n",
    "\n",
    "print(double(5))"
   ]
  },
  {
   "cell_type": "markdown",
   "metadata": {},
   "source": [
    "# 9"
   ]
  },
  {
   "cell_type": "code",
   "execution_count": null,
   "metadata": {},
   "outputs": [],
   "source": [
    "def fahrenheit(T_in_celsius):\n",
    "    \"\"\" returns the temperature in degrees Fahrenheit \"\"\"\n",
    "    return (T_in_celsius * 9 / 5) + 32\n",
    "\n",
    "for t in (22.6, 25.8, 27.3, 29.8):\n",
    "    print(t, \": \", fahrenheit(t))"
   ]
  },
  {
   "cell_type": "markdown",
   "metadata": {},
   "source": [
    "22.6 :  72.68"
   ]
  },
  {
   "cell_type": "markdown",
   "metadata": {},
   "source": [
    "25.8 :  78.44"
   ]
  },
  {
   "cell_type": "markdown",
   "metadata": {},
   "source": [
    "27.3 :  81.14"
   ]
  },
  {
   "cell_type": "markdown",
   "metadata": {},
   "source": [
    "29.8 :  85.64"
   ]
  },
  {
   "cell_type": "markdown",
   "metadata": {},
   "source": [
    "# 10"
   ]
  },
  {
   "cell_type": "code",
   "execution_count": null,
   "metadata": {},
   "outputs": [],
   "source": [
    "def f():\n",
    "    global s\n",
    "    print(s)\n",
    "    s = \"dog\"\n",
    "    print(s) \n",
    "s = \"cat\" \n",
    "f()\n",
    "print(s)"
   ]
  },
  {
   "cell_type": "markdown",
   "metadata": {},
   "source": [
    "cat\n",
    "dog\n",
    "dog"
   ]
  }
 ],
 "metadata": {
  "kernelspec": {
   "display_name": "Python 3",
   "language": "python",
   "name": "python3"
  },
  "language_info": {
   "codemirror_mode": {
    "name": "ipython",
    "version": 3
   },
   "file_extension": ".py",
   "mimetype": "text/x-python",
   "name": "python",
   "nbconvert_exporter": "python",
   "pygments_lexer": "ipython3",
   "version": "3.6.5"
  }
 },
 "nbformat": 4,
 "nbformat_minor": 2
}
