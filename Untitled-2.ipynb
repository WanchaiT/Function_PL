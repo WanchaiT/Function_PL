{
 "cells": [
  {
   "cell_type": "markdown",
   "metadata": {},
   "source": [
    "https://www.geeksforgeeks.org/default-arguments-in-python/\n",
    "http://www.yourownlinux.com/2016/12/python-function-args-kwargs.html\n",
    "https://www.programiz.com/python-programming/anonymous-function\n",
    "https://www.ibiblio.org/g2swap/byteofpython/read/return.html\n",
    "https://www.programiz.com/python-programming/namespace"
   ]
  },
  {
   "cell_type": "markdown",
   "metadata": {},
   "source": [
    "6.Default arguments\n",
    "\n",
    "Default arguments คือ อาร์กิวเมนต์ของฟังก์ชันจะรับค่านั้นถ้าไม่มีค่าอาร์กิวเมนต์ใดที่ผ่านระหว่างการเรียกฟังก์ชัน ค่าดีฟอลต์ถูกกำหนดโดยใช้  Operator(=) \n"
   ]
  },
  {
   "cell_type": "code",
   "execution_count": 3,
   "metadata": {},
   "outputs": [
    {
     "name": "stdout",
     "output_type": "stream",
     "text": [
      "Joe Come here!\n",
      "Joe Come\n"
     ]
    }
   ],
   "source": [
    "def defaultArg(name, foo='Come here!'):\n",
    "    print (name,foo)\n",
    "defaultArg('Joe')\n",
    "defaultArg('Joe', 'Come')"
   ]
  },
  {
   "cell_type": "markdown",
   "metadata": {},
   "source": [
    "จาก function defaultArg สังเกตได้ว่าพารามิเตอร์ foo จะมี Operator(=) ไว้เพื่อกำหนดค่าฟอลต์ของ function defaultArg                         \n",
    "ตัวอย่างจากการเรียกใช้ defaultArg('Joe') พารามิเตอร์ foo เป็นดีฟอลต์ถูกกำหนดค่าใหม่ตาม Operator(=) เป็น Come here!"
   ]
  },
  {
   "cell_type": "markdown",
   "metadata": {},
   "source": [
    "------------------------------------------"
   ]
  },
  {
   "cell_type": "markdown",
   "metadata": {},
   "source": [
    "7.Variable Length Arguments"
   ]
  },
  {
   "cell_type": "markdown",
   "metadata": {},
   "source": [
    "Variable Length Arguments คือ วิธีการส่งผ่านรายการอาร์กิวเมนต์ความยาวตัวแปรพารามิเตอร์ไปยัง function \n",
    "\n",
    "ในภาษา Python เราสามารถใช้ operator * และ ** ในการส่งรายการอาร์กิวเมนต์ดังนี้"
   ]
  },
  {
   "cell_type": "code",
   "execution_count": 4,
   "metadata": {},
   "outputs": [
    {
     "name": "stdout",
     "output_type": "stream",
     "text": [
      "(1, 2, 'Three', 'Four')\n"
     ]
    }
   ],
   "source": [
    "def myFunction(*args):\n",
    "    print (args)\n",
    "myFunction(1, 2, 'Three', 'Four')"
   ]
  },
  {
   "cell_type": "markdown",
   "metadata": {},
   "source": [
    "จาก function myFunction ใช้ *args เพื่อรับรายการอาร์กิวเมนต์ที่เป็น list[]"
   ]
  },
  {
   "cell_type": "code",
   "execution_count": 5,
   "metadata": {},
   "outputs": [
    {
     "name": "stdout",
     "output_type": "stream",
     "text": [
      "{'name': 'Mandar', 'country': 'India', 'age': 25}\n"
     ]
    }
   ],
   "source": [
    "def myFunction2(**kwargs):\n",
    "    print (kwargs)\n",
    "\n",
    "\n",
    "myFunction2(name='Mandar', country='India', age=25)"
   ]
  },
  {
   "cell_type": "markdown",
   "metadata": {},
   "source": [
    "จาก function myFunction2 ใช้ **kwargs เพื่อรับรายการอาร์กิวเมนต์ที่เป็น dict{}"
   ]
  },
  {
   "cell_type": "markdown",
   "metadata": {},
   "source": [
    "------------------------------------------"
   ]
  },
  {
   "cell_type": "markdown",
   "metadata": {},
   "source": [
    "8.Anonymous Functions"
   ]
  },
  {
   "cell_type": "markdown",
   "metadata": {},
   "source": [
    "Anonymous Functions หรือ Lambda Function คือ ฟังก์ชันที่ถูกกำหนดโดย keyword lambda "
   ]
  },
  {
   "cell_type": "markdown",
   "metadata": {},
   "source": [
    "ในขณะที่ฟังก์ชันปกติถูกกำหนดโดยใช้ keyword เป็น def ดังนั้นฟังก์ชันที่ไม่ระบุชื่อจึงเรียกว่าฟังก์ชัน lambda "
   ]
  },
  {
   "cell_type": "markdown",
   "metadata": {},
   "source": [
    "ยกตัวอย่างการใช้ฟังก์ชัน lambda ดังนี้"
   ]
  },
  {
   "cell_type": "code",
   "execution_count": 6,
   "metadata": {},
   "outputs": [
    {
     "name": "stdout",
     "output_type": "stream",
     "text": [
      "10\n"
     ]
    }
   ],
   "source": [
    "double = lambda x: x * 2\n",
    "\n",
    "print(double(5))"
   ]
  },
  {
   "cell_type": "markdown",
   "metadata": {},
   "source": [
    "จากตัวอย่างฟังก์ชัน lambda เป็นการรับพารามิเตอร์ x และดำเนินการโดยการนำ x คูณกับ 2 และทำการส่งค่า return มาปริ้น"
   ]
  },
  {
   "cell_type": "markdown",
   "metadata": {},
   "source": [
    "ซึ่งมีคุณสมบัติใกล้เคียงกับฟังก์ชันด้านล่างนี้"
   ]
  },
  {
   "cell_type": "code",
   "execution_count": 7,
   "metadata": {},
   "outputs": [
    {
     "name": "stdout",
     "output_type": "stream",
     "text": [
      "10\n"
     ]
    }
   ],
   "source": [
    "def double(x):\n",
    "    return x * 2\n",
    "print (double(5))"
   ]
  },
  {
   "cell_type": "markdown",
   "metadata": {},
   "source": [
    "------------------------------------------"
   ]
  },
  {
   "cell_type": "markdown",
   "metadata": {},
   "source": [
    "9.The return statement"
   ]
  },
  {
   "cell_type": "markdown",
   "metadata": {},
   "source": [
    "The return statement คือ การรายงาน statement โดยใช้คำสั่ง return ผ่านการใช้ function \n",
    "\n",
    "ยกตัวอย่างการใช้ The return statement ดังนี้"
   ]
  },
  {
   "cell_type": "code",
   "execution_count": 8,
   "metadata": {},
   "outputs": [
    {
     "name": "stdout",
     "output_type": "stream",
     "text": [
      "3\n"
     ]
    }
   ],
   "source": [
    "def maximum(x, y):\n",
    "    if x > y:\n",
    "        return x\n",
    "    else:\n",
    "        return y\n",
    "\n",
    "print (maximum(2, 3))"
   ]
  },
  {
   "cell_type": "markdown",
   "metadata": {},
   "source": [
    "จาก function maximum ได้ทำการส่งพารามิเตอร์คือ x และ y เพื่อหาว่าค่าใดมีค่ามากกว่ากันและทำการรายงาน statement ผ่านคำสั่ง return"
   ]
  },
  {
   "cell_type": "markdown",
   "metadata": {},
   "source": [
    "------------------------------------------"
   ]
  },
  {
   "cell_type": "markdown",
   "metadata": {},
   "source": [
    "10.Scope of Variables"
   ]
  },
  {
   "cell_type": "markdown",
   "metadata": {},
   "source": [
    "Scope of Variables คือ ส่วนที่ ตัวแปร หรือ namespaces สามารถเข้าถึงในพื้นที่เหล่านั้นได้\n",
    "\n",
    "ยกตัวอย่างเช่น"
   ]
  },
  {
   "cell_type": "code",
   "execution_count": 9,
   "metadata": {},
   "outputs": [],
   "source": [
    "def outer_function():\n",
    "    b = 20\n",
    "    def inner_func():\n",
    "        c = 30\n",
    "\n",
    "a = 10"
   ]
  },
  {
   "cell_type": "markdown",
   "metadata": {},
   "source": [
    "จะมีตัวแปร 3 ตัวคือ a,b,c โดยตัวแปร a จะสามารถเข้าถึงพื้นที่ของ outer_function() และ inner_function() ได้ แต่ตัวแปร b และ c ไม่สามารถเข้าถึงพื้นที่ที่ตัวแปร a อยู่ได้ เพราะตัวแปร b อยู่ใน scope ของ outer_function() สามารถเข้าถึงได้แค่ outer_function() และ inner_func() ตัวแปร c อยู่ใน scope inner_func() สามารถเข้าถึงพื้นที่ของ inner_func() ได้ที่เดียวเท่านั้น ดังตัวอย่างต่อไป"
   ]
  },
  {
   "cell_type": "code",
   "execution_count": 10,
   "metadata": {},
   "outputs": [
    {
     "name": "stdout",
     "output_type": "stream",
     "text": [
      "a = 30\n",
      "a = 20\n",
      "a = 10\n"
     ]
    }
   ],
   "source": [
    "def outer_function():\n",
    "    a = 20\n",
    "    def inner_function():\n",
    "        a = 30\n",
    "        print('a =',a)\n",
    "\n",
    "    inner_function()\n",
    "    print('a =',a)\n",
    "    \n",
    "a = 10\n",
    "outer_function()\n",
    "print('a =',a)"
   ]
  },
  {
   "cell_type": "code",
   "execution_count": null,
   "metadata": {},
   "outputs": [],
   "source": []
  }
 ],
 "metadata": {
  "kernelspec": {
   "display_name": "Python 3",
   "language": "python",
   "name": "python3"
  },
  "language_info": {
   "codemirror_mode": {
    "name": "ipython",
    "version": 3
   },
   "file_extension": ".py",
   "mimetype": "text/x-python",
   "name": "python",
   "nbconvert_exporter": "python",
   "pygments_lexer": "ipython3",
   "version": "3.6.5"
  }
 },
 "nbformat": 4,
 "nbformat_minor": 2
}
